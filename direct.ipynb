{
 "cells": [
  {
   "cell_type": "code",
   "execution_count": 1,
   "metadata": {},
   "outputs": [
    {
     "name": "stderr",
     "output_type": "stream",
     "text": [
      "/home/dsoadmin/projects/GPTQ-for-LLaMa/venv/lib/python3.9/site-packages/tqdm/auto.py:21: TqdmWarning: IProgress not found. Please update jupyter and ipywidgets. See https://ipywidgets.readthedocs.io/en/stable/user_install.html\n",
      "  from .autonotebook import tqdm as notebook_tqdm\n"
     ]
    },
    {
     "name": "stdout",
     "output_type": "stream",
     "text": [
      "Loading model ...\n",
      "Found 3 unique KN Linear values.\n",
      "Warming up autotune cache ...\n"
     ]
    },
    {
     "name": "stderr",
     "output_type": "stream",
     "text": [
      "100%|██████████| 12/12 [00:34<00:00,  2.86s/it]\n"
     ]
    },
    {
     "name": "stdout",
     "output_type": "stream",
     "text": [
      "Found 1 unique fused mlp KN values.\n",
      "Warming up autotune cache ...\n"
     ]
    },
    {
     "name": "stderr",
     "output_type": "stream",
     "text": [
      "100%|██████████| 12/12 [00:25<00:00,  2.15s/it]\n"
     ]
    },
    {
     "name": "stdout",
     "output_type": "stream",
     "text": [
      "Done.\n"
     ]
    }
   ],
   "source": [
    "from llama_inference import LLM\n",
    "\n",
    "model_path = \"models/alpaca-native-4bit\"\n",
    "load_path = \"models/alpaca-native-4bit/alpaca7b-4bit.pt\"\n",
    "\n",
    "llm = LLM(model_path=model_path, load_path=load_path)"
   ]
  },
  {
   "cell_type": "code",
   "execution_count": 2,
   "metadata": {},
   "outputs": [
    {
     "name": "stdout",
     "output_type": "stream",
     "text": [
      "Detokenization took: 0.005204200744628906 seconds.\n"
     ]
    },
    {
     "data": {
      "text/plain": [
       "'</s>where is singapore located?Africa, and it is the most populous country in the continent. It is estimated that the population of Nigeria is 170 million people. Nigeria has a large economy, and it is the largest economy in Africa. It is the most populous country in Africa, and it is the most populous country in the continent. It is estimated that the population of Nigeria is 170 million people. Nigeria has a large economy, and it is the largest economy in Africa. It is the most populous country in the continent. It is estimated that the population of Nigeria is 170 million people. Nigeria has a large economy, and it is the largest economy in Africa. It is the most populous country in Africa, and it is the most populous country in the continent. It is estimated that the population of Nigeria is 170 million people. Nigeria has a large economy, and it is the largest economy in Africa. It is the most populous country in the continent. It is estimated that the population of Nigeria is 170 million people. Nigeria has a large economy, and it is the largest economy in Africa. It is the most populous country in the continent. It is estimated that the population of Nigeria is 170 million people. Nigeria has a large economy, and it is the largest economy in Africa. It is'"
      ]
     },
     "execution_count": 2,
     "metadata": {},
     "output_type": "execute_result"
    }
   ],
   "source": [
    "llm.generate(\"where is singapore located?\")"
   ]
  }
 ],
 "metadata": {
  "kernelspec": {
   "display_name": "venv",
   "language": "python",
   "name": "python3"
  },
  "language_info": {
   "codemirror_mode": {
    "name": "ipython",
    "version": 3
   },
   "file_extension": ".py",
   "mimetype": "text/x-python",
   "name": "python",
   "nbconvert_exporter": "python",
   "pygments_lexer": "ipython3",
   "version": "3.9.16"
  },
  "orig_nbformat": 4
 },
 "nbformat": 4,
 "nbformat_minor": 2
}
